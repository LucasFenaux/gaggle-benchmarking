{
 "cells": [
  {
   "cell_type": "code",
   "execution_count": 1,
   "metadata": {
    "pycharm": {
     "name": "#%%\n"
    }
   },
   "outputs": [],
   "source": [
    "import pickle\n",
    "from matplotlib import pyplot as plt\n",
    "import numpy as np \n",
    "import scipy.stats\n",
    "import os\n",
    "\n",
    "#https://stackoverflow.com/questions/15033511/compute-a-confidence-interval-from-sample-data\n",
    "def mean_confidence_interval(data, confidence=0.95):\n",
    "    a = 1.0 * np.array(data)\n",
    "    n = len(a)\n",
    "    m, se = np.mean(a), scipy.stats.sem(a)\n",
    "    h = se * scipy.stats.t.ppf((1 + confidence) / 2., n - 1)\n",
    "    return m, m - h, m + h\n",
    "\n",
    "def set_dict_entry(dictionary, keys, value):\n",
    "    for key in keys[:-1]:\n",
    "        dictionary = dictionary.setdefault(key, {})\n",
    "    dictionary[keys[-1]] = value\n",
    "    \n",
    "def dict_iterator(dictionary, keys=None):\n",
    "    if keys is None:\n",
    "        keys = []\n",
    "    for key, value in dictionary.items():\n",
    "        new_keys = keys + [key]\n",
    "        if isinstance(value, dict):\n",
    "            for pair in dict_iterator(value, keys=new_keys):\n",
    "                yield pair\n",
    "        else:\n",
    "            yield [new_keys, value]\n",
    "            \n",
    "def get_CI(dictionary):\n",
    "    to_return = {}\n",
    "    for val in dict_iterator(dictionary):\n",
    "        utilities = val[1]\n",
    "        set_dict_entry(to_return, val[0], mean_confidence_interval(utilities))\n",
    "    return to_return"
   ]
  },
  {
   "cell_type": "code",
   "execution_count": null,
   "outputs": [],
   "source": [
    "dir = 'Results/'\n",
    "results = {}\n",
    "for file in os.scandir(dir):\n",
    "    if file.name.endswith('.p'):\n",
    "        tokens = file.name[:-2].split('_')\n",
    "        with open(os.path.join(dir, file.name), 'rb') as input_file:\n",
    "            value = pickle.load(input_file)\n",
    "        set_dict_entry(results, [tokens[0], tokens[-1]], value)\n",
    "print(results)\n",
    "\n",
    "CI_dict = get_CI(results)\n",
    "\n",
    "print(CI_dict)              "
   ],
   "metadata": {
    "collapsed": false,
    "pycharm": {
     "name": "#%%\n"
    }
   }
  },
  {
   "cell_type": "code",
   "execution_count": null,
   "outputs": [],
   "source": [
    "pop_sizes = [10, 32, 100, 200, 320]\n",
    "plt.rcParams.update({'font.size': 16})\n",
    "plt.rcParams['pdf.fonttype'] = 42\n",
    "plt.rcParams['ps.fonttype'] = 42\n",
    "nice_names = {'gaggle':'Gaggle (This Work)', 'leap': 'LEAP on GPU', 'pygad': 'PyGAD on GPU'}\n",
    "for algorithm in nice_names:\n",
    "    result = CI_dict[algorithm]\n",
    "    values = [result[str(x)][0] for x in pop_sizes]\n",
    "    lower = [result[str(x)][1] for x in pop_sizes]\n",
    "    upper = [result[str(x)][2] for x in pop_sizes]\n",
    "    plt.plot(pop_sizes, values, label=nice_names[algorithm])\n",
    "    plt.fill_between(pop_sizes, lower, upper, alpha=0.3)\n",
    "        \n",
    "# plt.title(\"{} Dataset\".format(dataset))\n",
    "plt.xlabel(\"Population Size\")\n",
    "plt.ylabel(\"Time per Generation (s)\")\n",
    "plt.tight_layout()\n",
    "plt.legend()\n",
    "plt.plot()\n",
    "plt.savefig('Results/mnist_plot.pdf', bbox_inches='tight')\n",
    "plt.show()\n",
    "plt.clf()"
   ],
   "metadata": {
    "collapsed": false,
    "pycharm": {
     "name": "#%%\n"
    }
   }
  },
  {
   "cell_type": "code",
   "execution_count": 4,
   "metadata": {
    "collapsed": false,
    "pycharm": {
     "name": "#%%\n"
    }
   },
   "outputs": [],
   "source": []
  },
  {
   "cell_type": "code",
   "execution_count": null,
   "metadata": {
    "collapsed": false,
    "pycharm": {
     "name": "#%%\n"
    }
   },
   "outputs": [],
   "source": []
  }
 ],
 "metadata": {
  "kernelspec": {
   "display_name": "gaggle_exp",
   "language": "python",
   "name": "python3"
  },
  "language_info": {
   "codemirror_mode": {
    "name": "ipython",
    "version": 3
   },
   "file_extension": ".py",
   "mimetype": "text/x-python",
   "name": "python",
   "nbconvert_exporter": "python",
   "pygments_lexer": "ipython3",
   "version": "3.10.9"
  },
  "orig_nbformat": 4
 },
 "nbformat": 4,
 "nbformat_minor": 2
}